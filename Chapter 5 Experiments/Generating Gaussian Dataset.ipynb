{
 "cells": [
  {
   "cell_type": "markdown",
   "id": "1583a6d7",
   "metadata": {},
   "source": [
    "# Synthetic Gaussian Dataset with Sudden Drift "
   ]
  },
  {
   "cell_type": "markdown",
   "id": "f33c70f2",
   "metadata": {},
   "source": [
    "## 1. Necessary Imports "
   ]
  },
  {
   "cell_type": "code",
   "execution_count": 1,
   "id": "6fe6e987",
   "metadata": {},
   "outputs": [],
   "source": [
    "import pandas as pd\n",
    "import numpy as np\n",
    "import random\n",
    "import warnings\n",
    "warnings.filterwarnings('ignore')\n"
   ]
  },
  {
   "cell_type": "markdown",
   "id": "51741ed1",
   "metadata": {},
   "source": [
    "## 2. Non-Drifted Dataset "
   ]
  },
  {
   "cell_type": "code",
   "execution_count": 166,
   "id": "352bb41e",
   "metadata": {},
   "outputs": [],
   "source": [
    "To keep one consistent copy of data fro all experiements , data is generated once and then saved. "
   ]
  },
  {
   "cell_type": "code",
   "execution_count": 2,
   "id": "8aeb4956",
   "metadata": {},
   "outputs": [],
   "source": [
    "#Negative Class Data : mean range =(0.1,0.6) , standard deviaton range =(0.05,0.45)\n",
    "#Positive Class Data: mean range =(2,7) , standard deviaton range =(1.5,2.5)"
   ]
  },
  {
   "cell_type": "code",
   "execution_count": null,
   "id": "ba9bd475",
   "metadata": {},
   "outputs": [],
   "source": [
    "def generate_data(mean_min,mean_max,smin,smax,nftrs,nsamples): \n",
    "    \n",
    "    columns = []\n",
    "    for i in range(0,nftrs):\n",
    "        q = 'x'+str(i)\n",
    "        columns.append(q)\n",
    "    data = pd.DataFrame(columns=columns)\n",
    "\n",
    "    for i in range(0,nftrs):\n",
    "        q = 'x'+str(i)\n",
    "        data[q] = np.random.normal(loc=random.uniform(mean_min,mean_max), scale=random.uniform(smin,smax),size=nsamples)\n",
    "    \n",
    "    return data  \n"
   ]
  },
  {
   "cell_type": "code",
   "execution_count": null,
   "id": "29543f7c",
   "metadata": {},
   "outputs": [],
   "source": [
    "data_neg = generate_data(0.1,0.6,0.05,0.45,20,30000)"
   ]
  },
  {
   "cell_type": "code",
   "execution_count": null,
   "id": "50f8cd20",
   "metadata": {},
   "outputs": [],
   "source": [
    "data_pos = generate_data(2,7,1.5,2.5,20,30000)"
   ]
  },
  {
   "cell_type": "code",
   "execution_count": null,
   "id": "03a341b7",
   "metadata": {},
   "outputs": [],
   "source": [
    "data_neg['class']=0"
   ]
  },
  {
   "cell_type": "code",
   "execution_count": null,
   "id": "0c679990",
   "metadata": {},
   "outputs": [],
   "source": [
    "data_pos['class']=1"
   ]
  },
  {
   "cell_type": "code",
   "execution_count": null,
   "id": "5e70c200",
   "metadata": {},
   "outputs": [],
   "source": [
    "data=pd.concat([data_pos,data_neg])"
   ]
  },
  {
   "cell_type": "code",
   "execution_count": null,
   "id": "b169a7d6",
   "metadata": {},
   "outputs": [],
   "source": [
    "from sklearn.utils import shuffle\n",
    "data = shuffle(data)"
   ]
  },
  {
   "cell_type": "code",
   "execution_count": null,
   "id": "2d2b72f4",
   "metadata": {},
   "outputs": [],
   "source": [
    "data=data.reset_index(drop=True )"
   ]
  },
  {
   "cell_type": "code",
   "execution_count": null,
   "id": "e306d157",
   "metadata": {},
   "outputs": [],
   "source": [
    "data.to_csv(\"gaussian_sudden_nondrifted.csv\",index=False)"
   ]
  },
  {
   "cell_type": "markdown",
   "id": "9945bbaa",
   "metadata": {},
   "source": [
    "# Drifted Data"
   ]
  },
  {
   "cell_type": "code",
   "execution_count": 168,
   "id": "3250affd",
   "metadata": {},
   "outputs": [],
   "source": [
    "# Data has been generated once and saved to keep one consistent copy"
   ]
  },
  {
   "cell_type": "code",
   "execution_count": null,
   "id": "5222d620",
   "metadata": {},
   "outputs": [],
   "source": [
    "normal=stream2[0:640]"
   ]
  },
  {
   "cell_type": "code",
   "execution_count": null,
   "id": "2585f422",
   "metadata": {},
   "outputs": [],
   "source": [
    "drifted_pos = generate_data(4,9,1.5,3,20,3000)\n",
    "drifted_neg= generate_data(0.3,0.9,0.1,0.5,20,3000)"
   ]
  },
  {
   "cell_type": "code",
   "execution_count": null,
   "id": "d794e85c",
   "metadata": {},
   "outputs": [],
   "source": [
    "drifted_stream=pd.concat([drifted_neg,drifted_pos]).reset_index(drop=True)"
   ]
  },
  {
   "cell_type": "code",
   "execution_count": null,
   "id": "e144ab34",
   "metadata": {},
   "outputs": [],
   "source": [
    "drifted_stream = shuffle(drifted_stream).reset_index(drop=True)"
   ]
  },
  {
   "cell_type": "code",
   "execution_count": null,
   "id": "02b2c220",
   "metadata": {},
   "outputs": [],
   "source": [
    "drifted_stream=pd.concat([normal,drifted_stream]).reset_index(drop=True)"
   ]
  },
  {
   "cell_type": "code",
   "execution_count": null,
   "id": "994ce55e",
   "metadata": {},
   "outputs": [],
   "source": [
    "drifted_stream=drifted_stream[0:6000]"
   ]
  },
  {
   "cell_type": "code",
   "execution_count": null,
   "id": "07b9a4f6",
   "metadata": {},
   "outputs": [],
   "source": [
    "drifted_stream.to_csv(\"gaussian_sudden_drifted.csv\", index=False)"
   ]
  }
 ],
 "metadata": {
  "kernelspec": {
   "display_name": "Python 3",
   "language": "python",
   "name": "python3"
  },
  "language_info": {
   "codemirror_mode": {
    "name": "ipython",
    "version": 3
   },
   "file_extension": ".py",
   "mimetype": "text/x-python",
   "name": "python",
   "nbconvert_exporter": "python",
   "pygments_lexer": "ipython3",
   "version": "3.8.8"
  }
 },
 "nbformat": 4,
 "nbformat_minor": 5
}
