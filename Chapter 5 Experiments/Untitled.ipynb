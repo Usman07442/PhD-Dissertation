{
 "cells": [
  {
   "cell_type": "code",
   "execution_count": 3,
   "id": "783f0cee",
   "metadata": {},
   "outputs": [],
   "source": [
    "l=[2,3,4,'hello']\n",
    "i_count=0\n",
    "for i in l:\n",
    "    if isinstance(i,int):\n",
    "        i_count+=1"
   ]
  },
  {
   "cell_type": "code",
   "execution_count": 4,
   "id": "1528445b",
   "metadata": {},
   "outputs": [
    {
     "data": {
      "text/plain": [
       "3"
      ]
     },
     "execution_count": 4,
     "metadata": {},
     "output_type": "execute_result"
    }
   ],
   "source": [
    "i_count"
   ]
  },
  {
   "cell_type": "code",
   "execution_count": null,
   "id": "961afe5d",
   "metadata": {},
   "outputs": [],
   "source": []
  }
 ],
 "metadata": {
  "kernelspec": {
   "display_name": "Python 3",
   "language": "python",
   "name": "python3"
  },
  "language_info": {
   "codemirror_mode": {
    "name": "ipython",
    "version": 3
   },
   "file_extension": ".py",
   "mimetype": "text/x-python",
   "name": "python",
   "nbconvert_exporter": "python",
   "pygments_lexer": "ipython3",
   "version": "3.8.8"
  }
 },
 "nbformat": 4,
 "nbformat_minor": 5
}
